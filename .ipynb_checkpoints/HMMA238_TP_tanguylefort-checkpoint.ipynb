{
 "cells": [
  {
   "cell_type": "markdown",
   "metadata": {},
   "source": [
    "<p style=\"text-align:left;\">\n",
    "    Lefort Tanguy\n",
    "    <span style=\"float:right;\">\n",
    "        2019-2020\n",
    "    </span>\n",
    "</p>\n",
    "<center>  M1 - Biostatistics - HMMA238 Développement Logiciel </center><br>\n",
    "\n",
    "<center style=\"font-size:300%;\"> <strong style=\"color:blue;\"> Conway's game of life </strong> </center><br>\n",
    "\n",
    "*****  "
   ]
  },
  {
   "cell_type": "markdown",
   "metadata": {
    "toc": true
   },
   "source": [
    "<h1>Table of contents<span class=\"tocSkip\"></span></h1>\n",
    "<div class=\"toc\"><ul class=\"toc-item\"><li><span><a href=\"#Setup-\" data-toc-modified-id=\"Setup--1\"><span class=\"toc-item-num\">1&nbsp;&nbsp;</span>Setup <a name=\"setup\"></a></a></span></li><li><span><a href=\"#Implementation-without-numpy-\" data-toc-modified-id=\"Implementation-without-numpy--2\"><span class=\"toc-item-num\">2&nbsp;&nbsp;</span>Implementation without numpy <a name=\"without\"></a></a></span></li></ul></div>"
   ]
  },
  {
   "cell_type": "raw",
   "metadata": {},
   "source": [
    "Table of contents\n",
    "\n",
    "1. [Setup](#setup)\n",
    "1. [Implementation without numpy](#without)\n",
    "1. [Implementation with numpy](#with)\n",
    "    1. [Simple model](#simple)\n",
    "    1. [Random model](#random)\n",
    "    1. [Specific configurations](#spec)\n",
    "1. [Implementation using classes and numpy](#classes)\n",
    "1. [Bonus: tore-like model](#tore)"
   ]
  },
  {
   "cell_type": "markdown",
   "metadata": {},
   "source": [
    "# Setup <a name=\"setup\"></a>"
   ]
  },
  {
   "cell_type": "code",
   "execution_count": 20,
   "metadata": {},
   "outputs": [],
   "source": [
    "import numpy as np\n",
    "import matplotlib.pyplot as plt\n",
    "%matplotlib notebook"
   ]
  },
  {
   "cell_type": "code",
   "execution_count": 21,
   "metadata": {},
   "outputs": [
    {
     "data": {
      "application/javascript": [
       "IPython.notebook.kernel.execute(`notebookName = '${IPython.notebook.notebook_name}'`);\n"
      ],
      "text/plain": [
       "<IPython.core.display.Javascript object>"
      ]
     },
     "metadata": {},
     "output_type": "display_data"
    }
   ],
   "source": [
    "%%javascript\n",
    "IPython.notebook.kernel.execute(`notebookName = '${IPython.notebook.notebook_name}'`);"
   ]
  },
  {
   "cell_type": "markdown",
   "metadata": {},
   "source": [
    "# Implementation without numpy <a name=\"without\"></a>"
   ]
  },
  {
   "cell_type": "code",
   "execution_count": null,
   "metadata": {},
   "outputs": [],
   "source": []
  }
 ],
 "metadata": {
  "kernelspec": {
   "display_name": "Python 3",
   "language": "python",
   "name": "python3"
  },
  "language_info": {
   "codemirror_mode": {
    "name": "ipython",
    "version": 3
   },
   "file_extension": ".py",
   "mimetype": "text/x-python",
   "name": "python",
   "nbconvert_exporter": "python",
   "pygments_lexer": "ipython3",
   "version": "3.7.6"
  },
  "toc": {
   "base_numbering": "1",
   "nav_menu": {},
   "number_sections": true,
   "sideBar": true,
   "skip_h1_title": false,
   "title_cell": "Table of contents",
   "title_sidebar": "Contents",
   "toc_cell": true,
   "toc_position": {},
   "toc_section_display": true,
   "toc_window_display": true
  }
 },
 "nbformat": 4,
 "nbformat_minor": 4
}
